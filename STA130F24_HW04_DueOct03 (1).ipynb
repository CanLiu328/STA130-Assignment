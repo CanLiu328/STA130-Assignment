{
 "cells": [
  {
   "cell_type": "markdown",
   "metadata": {},
   "source": [
    "# STA130 Homework 04 \n",
    "\n",
    "Please see the course [wiki-textbook](https://github.com/pointOfive/stat130chat130/wiki) for the list of topics covered in this homework assignment, and a list of topics that might appear during ChatBot conversations which are \"out of scope\" for the purposes of this homework assignment (and hence can be safely ignored if encountered)"
   ]
  },
  {
   "cell_type": "markdown",
   "metadata": {},
   "source": [
    "<details class=\"details-example\"><summary style=\"color:blue\"><u>Introduction</u></summary>\n",
    "\n",
    "### Introduction\n",
    "\n",
    "A reasonable characterization of STA130 Homework is that it simply defines a weekly reading comprehension assignment. \n",
    "Indeed, STA130 Homework essentially boils down to completing various understanding confirmation exercises oriented around coding and writing tasks.\n",
    "However, rather than reading a textbook, STA130 Homework is based on ChatBots so students can interactively follow up to clarify questions or confusion that they may still have regarding learning objective assignments.\n",
    "\n",
    "> Communication is a fundamental skill underlying statistics and data science, so STA130 Homework based on ChatBots helps practice effective two-way communication as part of a \"realistic\" dialogue activity supporting underlying conceptual understanding building. \n",
    "\n",
    "It will likely become increasingly tempting to rely on ChatBots to \"do the work for you\". But when you find yourself frustrated with a ChatBots inability to give you the results you're looking for, this is a \"hint\" that you've become overreliant on the ChatBots. Your objective should not be to have ChatBots \"do the work for you\", but to use ChatBots to help you build your understanding so you can efficiently leverage ChatBots (and other resources) to help you work more efficiently.<br><br>\n",
    "\n",
    "</details>\n",
    "\n",
    "<details class=\"details-example\"><summary style=\"color:blue\"><u>Instructions</u></summary>\n",
    "\n",
    "### Instructions\n",
    "\n",
    "1. Code and write all your answers (for both the \"Prelecture\" and \"Postlecture\" HW) in a python notebook (in code and markdown cells) \n",
    "    \n",
    "    > It is *suggested but not mandatory* that you complete the \"Prelecture\" HW prior to the Monday LEC since (a) all HW is due at the same time; but, (b) completing some of the HW early will mean better readiness for LEC and less of a \"procrastentation cruch\" towards the end of the week...\n",
    "    \n",
    "2. Paste summaries of your ChatBot sessions (including link(s) to chat log histories if you're using ChatGPT) within your notebook\n",
    "    \n",
    "    > Create summaries of your ChatBot sessions by using concluding prompts such as \"Please provide a summary of our exchanges here so I can submit them as a record of our interactions as part of a homework assignment\" or, \"Please provide me with the final working verson of the code that we created together\"\n",
    "    \n",
    "3. Save your python jupyter notebook in your own account and \"repo\" on [github.com](github.com) and submit a link to that notebook though Quercus for assignment marking<br><br>\n",
    "\n",
    "</details>\n",
    "\n",
    "<details class=\"details-example\"><summary style=\"color:blue\"><u>Prompt Engineering?</u></summary>\n",
    "\n",
    "### Prompt Engineering? \n",
    "\n",
    "The questions (as copy-pasted prompts) are designed to initialize appropriate ChatBot conversations which can be explored in the manner of an interactive and dynamic textbook; but, it is nonetheless **strongly recommendated** that your rephrase the questions in a way that you find natural to ensure a clear understanding of the question. Given sensible prompts the represent a question well, the two primary challenges observed to arise from ChatBots are \n",
    "\n",
    "1. conversations going beyond the intended scope of the material addressed by the question; and, \n",
    "2. unrecoverable confusion as a result of sequential layers logial inquiry that cannot be resolved. \n",
    "\n",
    "In the case of the former (1), adding constraints specifying the limits of considerations of interest tends to be helpful; whereas, the latter (2) is often the result of initial prompting that leads to poor developments in navigating the material, which are likely just best resolve by a \"hard reset\" with a new initial approach to prompting.  Indeed, this is exactly the behavior [hardcoded into copilot](https://answers.microsoft.com/en-us/bing/forum/all/is-this-even-normal/0b6dcab3-7d6c-4373-8efe-d74158af3c00)...\n",
    "\n",
    "</details>\n",
    "\n",
    "\n"
   ]
  },
  {
   "cell_type": "markdown",
   "metadata": {},
   "source": [
    "### Marking Rubric (which may award partial credit) \n",
    "\n",
    "- [0.1 points]: All relevant ChatBot summaries [including link(s) to chat log histories if you're using ChatGPT] are reported within the notebook\n",
    "- [0.2 points]: Evaluation of correctness and effectiveness of written communication for Question \"1\"\n",
    "<!-- - [0.3 points]: Correctness of understanding confirmed by code comments and relevant ChatBot summaries [including link(s) to chat log histories if you're using ChatGPT] for Question \"4\" -->\n",
    "- [0.3 points]: Evaluation of correctness and effectiveness of written communication for Question \"6\"\n",
    "- [0.4 points]: Evaluation of submission for Question \"8\" "
   ]
  },
  {
   "cell_type": "markdown",
   "metadata": {},
   "source": [
    "## \"Pre-lecture\" HW [*completion prior to next LEC is suggested but not mandatory*]\n",
    "\n",
    "**To prepare for this weeks lecture, first watch this video [introduction to bootstrapping](https://www.youtube.com/watch?v=Xz0x-8-cgaQ)**\n"
   ]
  },
  {
   "cell_type": "code",
   "execution_count": null,
   "metadata": {},
   "outputs": [],
   "source": [
    "from IPython.display import YouTubeVideo\n",
    "YouTubeVideo('Xz0x-8-cgaQ', width=800, height=500)"
   ]
  },
  {
   "cell_type": "markdown",
   "metadata": {},
   "source": [
    "### 1. The \"Pre-lecture\" video (above) mentioned the \"standard error of the mean\" as being the \"standard deviation\" of the distribution bootstrapped means.  What is the difference between the \"standard error of the mean\" and the \"standard deviation\" of the original data? What distinct ideas do each of these capture? Explain this concisely in your own words.<br>\n",
    "\n",
    "<details class=\"details-example\"><summary style=\"color:blue\"><u>Further Guidance</u></summary>\n",
    "\n",
    "> _To answer this question, you could start a ChatBot session and try giving a ChatBot a shot at trying to explain this distinction to you. If you're not sure if you've been able to figure it out out this way, review [this ChatGPT session](https://github.com/pointOfive/stat130chat130/blob/main/CHATLOG/wk4/GPT/SLS/00002_gpt3p5_SEM_vs_SD_Difference.md)._\n",
    "> - _If you discuss this question with a ChatBot, don't forget to ask for summaries of your ChatBot session(s) and paste these into your homework notebook (including link(s) to chat log histories if you're using ChatGPT)._\n",
    "> \n",
    "> _Note that the \"Pre-lecture\" video (above) and the last *Question 5* of The **Week 04 TUT Communication Actvity #2** address the question of \"What is bootstrapping?\", but the question of \"What is the difference between the \"standard error of the mean\" and the \"standard deviation\" of the original data?\" does not really depend on what bootstrapping is._\n",
    "> \n",
    "> _If you were to be interested in answering the question of \"What is bootstrapping?\", probably just asking a ChatBot directly would work. Or even something like \"Explain variability of means, function of sample size, bootstrapping\" or \"How does the variability of means of simulated samples change as a function of sample size? Explain this to me in a simple way using bootstrapping!\" would likely be pretty effective as prompts. ChatBots are not particularly picky about prompts when it comes to addressing very well understood topics (like bootstrapping). That said, the more concise context you provide in your prompt, the more you can guide the relevance and relatability of the responses of a ChatBot in a manner you desire. The \"Further Guidance\" under *Question 5* of **Communication Actvity #2** in TUT is a good example of this._\n",
    "    \n",
    "</details>"
   ]
  },
  {
   "cell_type": "markdown",
   "metadata": {},
   "source": [
    "Definition:\n",
    "Standard Deviation (SD): Measures the spread or variability of individual data points in a dataset. It shows how much the values in the dataset differ from the mean of the dataset.\n",
    "Standard Error of the Mean (SEM): Measures how much the sample mean (the average of a sample) is likely to vary from the true population mean. It reflects the precision of the sample mean as an estimate of the population mean.\n",
    "Standard Deviation (SD): Describes the variability of data points around the mean. A larger SD indicates greater variability within the dataset.\n",
    "Standard Error of the Mean (SEM): Describes the uncertainty in the estimate of the population mean. A smaller SEM indicates a more precise estimate of the population mean.\n",
    "Standard Deviation (SD): Does not depend on sample size. It is a measure of the variability within the data itself.\n",
    "Standard Error of the Mean (SEM): Depends on sample size. As the sample size increases, SEM decreases, because a larger sample provides a more accurate estimate of the population mean.\n",
    "Standard Deviation (SD): Used to describe the spread of individual data points within a dataset. It’s typically used when summarizing the data.\n",
    "Standard Error of the Mean (SEM): Used to indicate the reliability of the sample mean as an estimate of the population mean. It is commonly used in inferential statistics, particularly when reporting the precision of an estimate (e.g., in confidence intervals).\n",
    "$SD = sqrt( (1 / (N - 1)) * sum((xi - mean_x)^2) )$\n",
    "$SEM = SD / sqrt(N)$\n",
    "Idea: SD tells you how much individual data points deviate from the mean. It gives you an idea of the overall distribution of the data and whether the data points are clustered close to the mean or spread out over a wide range.\n",
    "Distinct Concept: It reflects inherent variability within the sample or population. A larger SD means data points are more spread out from the mean, while a smaller SD means data points are closer to the mean.\n",
    "Example: In an exam, if most students score close to the average, the SD will be small. If scores are scattered widely, the SD will be large.\n",
    "2. Standard Error of the Mean (SEM): Captures the precision of the sample mean as an estimate of the population mean.\n",
    "Idea: SEM tells you how much the sample mean (average) would fluctuate if you repeated the sampling process multiple times. It reflects the uncertainty in using the sample mean to estimate the true population mean.\n",
    "Distinct Concept: SEM decreases as the sample size increases, because larger samples provide more reliable estimates of the population mean. The SEM is therefore a measure of estimation accuracy rather than the spread of data.\n",
    "Example: If you survey 10 people about their average income, your sample mean may not be very accurate, and the SEM will be relatively large. If you survey 1,000 people, your estimate of the population mean will be more precise, leading to a smaller SEM.\n",
    "Key Differences:\n",
    "SD: Describes the variation within the data itself (how data points differ from each other).\n",
    "SEM: Describes the variation of the sample mean (how the sample mean might differ from the population mean).\n",
    "While SD focuses on variability among the data points, SEM focuses on how well the sample represents the population mean.\n",
    "\n",
    "\n",
    "\n",
    "\n",
    "\n",
    "\n"
   ]
  },
  {
   "cell_type": "markdown",
   "metadata": {},
   "source": [
    "### 2. The \"Pre-lecture\" video (above) suggested that the \"standard error of the mean\" could be used to create a confidence interval, but didn't describe exactly how to do this.  How can we use the \"standard error of the mean\" to create a 95% confidence interval which \"covers 95% of the bootstrapped sample means\"? Explain this concisely in your own words.<br>\n",
    "\n",
    "<details class=\"details-example\"><summary style=\"color:blue\"><u>Further Guidance</u></summary>\n",
    "\n",
    "> _Just describe the proceedure itself (probably as reported by a ChatBot), but explain the procedure in your own words in a way that makes the most sense to you. The point is not to understand or explain the theoretical justification as to why this procedure exists, it's just to recognize that it does indeed exist and to briefly describe it. This is because in this class we're going to instead focus on understanding and using 95% bootstrapped confidence intervals. So this \"sample mean plus and minus about 2 times the standard error\" really only provides some context against which to contrast and clarify bootstrapped confidence intervals_\n",
    ">\n",
    "> - _If you continue get help from a ChatBot for this question (as is intended and expected for this problem), don't forget to ask for summaries of your ChatBot session(s) and paste these into your homework notebook (including link(s) to chat log histories if you're using ChatGPT)._\n",
    "</details>"
   ]
  },
  {
   "cell_type": "markdown",
   "metadata": {},
   "source": [
    "Bootstrapping: Resample the dataset (with replacement) multiple times to create bootstrap samples. For each sample, calculate the sample mean.\n",
    "\n",
    "Calculate the SEM: Calculate the Standard Error of the Mean from the original sample.\n",
    "\n",
    "Calculate the Confidence Interval:\n",
    "\n",
    "For a 95% confidence interval, we need the critical value from the standard normal distribution for 95%, which is 1.96.\n",
    "The confidence interval formula will be:\n",
    "CI_lower = mean_x - Z * SEM\n",
    "CI_upper = mean_x + Z * SEM"
   ]
  },
  {
   "cell_type": "markdown",
   "metadata": {},
   "source": [
    "### 3. Creating the \"sample mean plus and minus about 2 times the standard error\" confidence interval addressed in the previous problem should indeed cover approximately 95% of the bootstrapped sample means. Alternatively, how do we create a 95% bootstrapped confidence interval using the bootstrapped means (without using their standard deviation to estimate the standard error of the mean)? Explain this concisely in your own words.<br>\n",
    "\n",
    "<details class=\"details-example\"><summary style=\"color:blue\"><u>Further Guidance</u></summary>\n",
    "\n",
    "> _A good explaination here would likely be based on explaining how (and why) to use the `np.quantile(...)` function on a collection of bootstrapped sample means. The \"pre-lecture video\" describes what this should be, just not in terms of`np.quantile(...)`, right before the \"double bam\"._\n",
    ">\n",
    "> _That said, there are many other questions about bootstrapping that you should be working on familiarizing yourself with as as you're thinking through th proceedure that answers this question._\n",
    "> \n",
    "> - _If you had a_ ~~theoretical distribution~~ _histogram of bootstrapped sample means representing the variability/uncertianty of means (of \"averages\") that an observed sample of size n produces, how would you give a range estimating what the sample mean of a future sample of size n might be?_\n",
    ">\n",
    "> - _Unlike the \"sample mean plus and minus about 2 times the standard error\" approach which would only cover **approximately** 95% of the bootstrapped sample means, a 95% bootstrapped confidence interval would cover exactly 95% of the bootstrapped means._\n",
    ">\n",
    "> - _While the variability/uncertainty of sample mean statistics when sampling from a population is a function of the sample size (n) [how?], we would NEVER consider using a bootstrapped sample size that was different than the size of the original sample [why?]._\n",
    ">\n",
    "> - _Are bootstrapped samples different if they are the same size as the original sample and created by sampling **without replacement**?_\n",
    "\n",
    "</details>"
   ]
  },
  {
   "cell_type": "markdown",
   "metadata": {},
   "source": [
    "process:\n",
    "    1.Resample the data and calculate the means:\n",
    "\n",
    "Generate a large number of bootstrap samples from your original dataset.\n",
    "Compute the mean for each sample.\n",
    "    2.Obtain the 95% CI from the bootstrapped means:\n",
    "\n",
    "Use np.quantile() to compute the 2.5th and 97.5th percentiles of the bootstrapped means to get the 95% CI."
   ]
  },
  {
   "cell_type": "markdown",
   "metadata": {},
   "source": [
    "https://chatgpt.com/share/66fd63df-9a8c-800a-82e8-176d55e6a991"
   ]
  },
  {
   "cell_type": "markdown",
   "metadata": {},
   "source": [
    "### 4. The \"Pre-lecture\" video (above) mentioned that bootstrap confidence intervals could apply to other statistics of the sample, such as the \"median\". Work with a ChatBot to create code to produce a 95% bootstrap confidence interval for a population mean based on a sample that you have and comment the code to demonstrate how the code can be changed to produce a 95% bootstrap confidence interval for different population parameter (other than the population mean, such as the population median).<br>\n",
    "\n",
    "<details class=\"details-example\"><summary style=\"color:blue\"><u>Further Guidance</u></summary>\n",
    "\n",
    "> _Hint: you can ask your ChatBot to create the code you need, and even make up a sample to use; but, you should work with your ChatBot to make sure you understand how the code works and what it's doing. Just having a ChatBot comment what the code does is not what this problem is asking you to do. This problem wants YOU to understand what the code does. To make sure you're indeed doing this, consider deleting the inline explanatory comments your ChatBot provides to you and write them again in your own words from scratch._\n",
    ">\n",
    "> - _Don't forget to ask for summaries of your ChatBot session(s) and paste these into your homework notebook (including link(s) to chat log histories if you're using ChatGPT)!_\n",
    "\n",
    "</details>"
   ]
  },
  {
   "cell_type": "code",
   "execution_count": 4,
   "metadata": {},
   "outputs": [
    {
     "name": "stdout",
     "output_type": "stream",
     "text": [
      "95% Bootstrap Confidence Interval for the Mean: (-0.23803776453414055, 0.1377337117218888)\n",
      "95% Bootstrap Confidence Interval for the Median: (-0.3763896217332495, 0.22237296524493758)\n"
     ]
    }
   ],
   "source": [
    "import numpy as np\n",
    "\n",
    "# Sample data\n",
    "sample = np.random.randn(100)  # Example sample of 100 data points from a normal distribution\n",
    "\n",
    "# Function to calculate bootstrap confidence interval for a statistic (default is mean)\n",
    "def bootstrap_ci(sample, stat_function=np.mean, n_bootstrap=10000, ci=95):\n",
    "    \"\"\"\n",
    "    Calculate the bootstrap confidence interval for a given sample and statistic.\n",
    "\n",
    "    Parameters:\n",
    "    - sample: array-like, the sample data\n",
    "    - stat_function: the function to calculate the statistic (default is np.mean for the mean)\n",
    "    - n_bootstrap: the number of bootstrap samples (default is 10,000)\n",
    "    - ci: the confidence interval percentage (default is 95%)\n",
    "\n",
    "    Returns:\n",
    "    - lower_bound: lower bound of the confidence interval\n",
    "    - upper_bound: upper bound of the confidence interval\n",
    "    \"\"\"\n",
    "    bootstrap_samples = np.random.choice(sample, size=(n_bootstrap, len(sample)), replace=True)\n",
    "    bootstrap_stats = np.apply_along_axis(stat_function, 1, bootstrap_samples)\n",
    "    \n",
    "    lower_bound = np.percentile(bootstrap_stats, (100 - ci) / 2)\n",
    "    upper_bound = np.percentile(bootstrap_stats, 100 - (100 - ci) / 2)\n",
    "    \n",
    "    return lower_bound, upper_bound\n",
    "\n",
    "# Calculate 95% bootstrap confidence interval for the mean\n",
    "mean_ci = bootstrap_ci(sample, stat_function=np.mean)\n",
    "print(f\"95% Bootstrap Confidence Interval for the Mean: {mean_ci}\")\n",
    "\n",
    "# To calculate for a different parameter, such as the median:\n",
    "# - Change `stat_function=np.mean` to `stat_function=np.median` in the function call\n",
    "# Example:\n",
    "median_ci = bootstrap_ci(sample, stat_function=np.median)\n",
    "print(f\"95% Bootstrap Confidence Interval for the Median: {median_ci}\")\n"
   ]
  },
  {
   "cell_type": "markdown",
   "metadata": {},
   "source": [
    "<details class=\"details-example\"><summary style=\"color:blue\"><u>Continue now...?</u></summary>\n",
    "\n",
    "### Pre-lecture VS Post-lecture HW\n",
    "\n",
    "Feel free to work on the \"Post-lecture\" HW below if you're making good progress and want to continue: some of the \"Post-lecture\" HW questions continue to address the \"Pre-lecture\" video, so it's not particularly unreasonable to attempt to work ahead a little bit... \n",
    "\n",
    "- The very first question of the the \"Post-lecture\" HW addresses the previously emphasized topic of *parameters* versus *statistics*, and would again be a very good thing to be clear about in preparation for the upcoming lecture...\n",
    "    \n",
    "*The benefits of continue would are that (a) it might be fun to try to tackle the challenge of working through some problems without additional preparation or guidance; and (b) this is a very valable skill to be comfortable with; and (c) it will let you build experience interacting with ChatBots (and beginning to understand their strengths and limitations in this regard)... it's good to have sense of when using a ChatBot is the best way to figure something out, or if another approach (such as course provided resources or a plain old websearch for the right resourse) would be more effective*\n",
    "    \n",
    "</details>    "
   ]
  },
  {
   "cell_type": "code",
   "execution_count": null,
   "metadata": {},
   "outputs": [],
   "source": []
  },
  {
   "cell_type": "markdown",
   "metadata": {},
   "source": [
    "## \"Post-lecture\" HW [*submission along with \"Pre-lecture\" HW is due prior to next TUT*]"
   ]
  },
  {
   "cell_type": "markdown",
   "metadata": {},
   "source": [
    "### 5. The previous question addresses making a confidence interval for a population parameter based on a sample statistic. Why do we need to distinguish between the role of the popualation parameter and the sample sample statistic when it comes to confidence intervals? Explain this concisely in your own words.<br>\n",
    "\n",
    "<details class=\"details-example\"><summary style=\"color:blue\"><u>Further Guidance</u></summary>\n",
    "\n",
    "> _This question helps clarify the nature and relative roles of (population) parameters and (sample) statistics, which forms the fundamental conceptual relationship in statistics and data science; so, make sure you interact with a ChatBot (or search online or in the course [wiki-textbook](https://github.com/pointOfive/stat130chat130/wiki)) carefully and thoroughly to ensure that you understand the distinctions here in the context of confidence intervals._\n",
    ">\n",
    "> - _As always, don't forget to ask for summaries of your ChatBot session(s) and paste these into your homework notebook (including link(s) to chat log histories if you're using ChatGPT)._\n",
    "\n",
    "</details>"
   ]
  },
  {
   "cell_type": "markdown",
   "metadata": {},
   "source": [
    "1. Population Parameter:\n",
    "This is the true value of a characteristic (e.g., mean, median, proportion, etc.) of an entire population.\n",
    "It is usually unknown because it is often impractical or impossible to collect data from the entire population.\n",
    "Examples: population mean (μ), population variance (σ²), population median, etc.\n",
    "2. Sample Statistic:\n",
    "This is an estimate of the population parameter, calculated from a sample drawn from the population.\n",
    "It is used to make inferences about the population parameter.\n",
    "Examples: sample mean (x̄), sample variance (s²), sample median, etc.\n",
    "Why the Distinction Matters in Confidence Intervals:\n",
    "Confidence Intervals are for Population Parameters:\n",
    "\n",
    "The purpose of a confidence interval is to estimate an unknown population parameter, not the sample statistic itself.\n",
    "We use the sample statistic to construct a confidence interval around it, which gives a range of plausible values for the population parameter.\n",
    "Sampling Variability:\n",
    "\n",
    "Every time we draw a sample from a population, the sample statistic will vary because different samples will contain different data points.\n",
    "The population parameter, however, is fixed and does not vary, even though we cannot observe it directly. The confidence interval accounts for the fact that the sample statistic varies from sample to sample.\n",
    "Inferential Purpose:\n",
    "\n",
    "We are not interested in knowing the sample statistic alone; we use it as a proxy to learn about the population parameter.\n",
    "A confidence interval reflects our uncertainty about the true population parameter, acknowledging that the sample statistic is just one possible estimate from many potential samples.\n",
    "Interpretation of the Confidence Interval:\n",
    "\n",
    "The interval provides a range in which we are confident that the true population parameter lies, based on the sample we have.\n",
    "For instance, if we construct a 95% confidence interval for the population mean, we are saying, \"We are 95% confident that the true population mean lies within this interval.\" This is fundamentally about the population parameter, not the sample statistic."
   ]
  },
  {
   "cell_type": "markdown",
   "metadata": {},
   "source": [
    "### 6. Provide written answers explaining the answers to the following questions in an informal manner of a conversation with a friend with little experience with statistics. <br>\n",
    "\n",
    "1. What is the process of bootstrapping? \n",
    "2. What is the main purpose of bootstrapping? \n",
    "3. If you had a (hypothesized) guess about what the average of a population was, and you had a sample of size n from that population, how could you use bootstrapping to assess whether or not your (hypothesized) guess might be plausible?\n",
    "   \n",
    "<details class=\"details-example\"><summary style=\"color:blue\"><u>Further Guidance</u></summary>\n",
    "\n",
    "> _Your answers to the previous questions 3-5 above (and the \"Further Guidance\" comments in question 3) should be very helpful for answering this question; but, they are very likely be more technical than would be useful for explaining these ideas to your friends. Work to use descriptive and intuitive language in your explaination._\n",
    "\n",
    "</details>"
   ]
  },
  {
   "cell_type": "markdown",
   "metadata": {},
   "source": [
    "1.Resample the data and calculate the means:\n",
    "\n",
    "Generate a large number of bootstrap samples from your original dataset.\n",
    "Compute the mean for each sample.\n",
    "Obtain the 95% CI from the bootstrapped means:\n",
    "\n",
    "Use np.quantile() to compute the 2.5th and 97.5th percentiles of the bootstrapped means to get the 95% CI.\n",
    "2.Multiple samples are generated by simulation without knowing the population parameters through repeated random sampling.These samples are used to estimate or infer the parameter distribution of the population.\n",
    "3.According the steps of bootstrap, we can calculate a CI,to compare the value of hypothesis and CI that we calculated. If the value of hypothesis is not in this interval, we say the hypothesis is not plausible.By contrast, if the value of hypothesis in in this interval, we say the hypothesis is plausible."
   ]
  },
  {
   "cell_type": "markdown",
   "metadata": {},
   "source": [
    "\n",
    "### 7. The \"Pre-lecture\" video (above) introduced hypothesis testing by saying that \"the confidence interval covers zero, so we cannot reject the hypothesis that the drug is **[on average]** not doing anything\".  This conclusion could be referred to as \"failing to reject the null hypothesis\", where the term \"null\" refers to the concept of \"no effect **[on average]**\".  Why does a confidence interval overlapping zero \"fail to reject the null hypothesis\" when the observed sample mean statistic itself is not zero? Alternatively, what would lead to the opposite conclusion in this context; namely, instead choosing \"to reject the null hypothesis\"? Explain the answers to these questions concisely in your own words.<br>\n",
    "\n",
    "<details class=\"details-example\"><summary style=\"color:blue\"><u>Further Guidance</u></summary>\n",
    "\n",
    "> _This question (which addresses a very similar content to the third question of the previous probelm) is really about characterizing and leveraging the behavior of the variability/uncertainty of sample means that we expect at a given sample size. Understanding why this characterization would explain the answer to this question is the key idea underlying statistics. In fact, this concept is the primary consideration in statistics and the essense of how statistical analysis works._\n",
    "> \n",
    "> - In answering this question it is surely helpful to note the difference between the observed sample values in the sample $x_i$ (for $i = 1, \\cdots, n$), the observed sample average $\\bar x$, and the actual value of the parameter $\\mu$ clearly. Hopefully the meanings and distinctions here are increasingly obvious, as they should be if you have a clear understanding of the answer to question \"5\" above. Related to this, the quotes above have been edited to include \"**[on average]**\" which more accurately clarifies the intended meaning of the statements from the video. It's very relevent (again related to Question \"5\" above) to understand why are we bothering with making an explicit distinction with this, and why is it slightly different to say that \"the drug is on average not doing anything\" as opposed to saying \"the drug is not doing anything\"._\n",
    "> \n",
    "> Using a **null hypotheses** (and corresponding **alternative hypothesis**) will be addressed next week; but, to give a sneak peak preview of the **hypothesis testing** topic, the \"null\" and \"alternative\" are formally specified as \n",
    ">    \n",
    "> np.quantile(boot_median, [0.025, 0.975])\n",
    "> which means that our **null hypotheses** is that the average value $\\mu$ of the population is $0$, while our **alternative hypothesis** is that the average value $\\mu$ of the population is not $0$. \n",
    "> \n",
    "> **Statistical hypothesis testing** proceeds on the basis of the **scientific method** by defining the **null hypothesis** to be what we beleive until we have sufficient evidence to no longer believe it. As such, the **null hypotheses** is typically something that we *may not actually believe*; and, actually, the **null hypotheses** simply serves as a sort of \"straw man\" which we in fact really intend to give evidence against so as to no longer believe it (and hence move forward following the procedure of the **scientific method**).\n",
    "</details>"
   ]
  },
  {
   "cell_type": "markdown",
   "metadata": {},
   "source": [
    "Because the sample has high variability or the number of sample is small.\n",
    "Theoretically, we have 95% confidence to make sure that the true mean is in this interval. "
   ]
  },
  {
   "cell_type": "markdown",
   "metadata": {},
   "source": [
    "### 8. Complete the following assignment. \n"
   ]
  },
  {
   "cell_type": "markdown",
   "metadata": {},
   "source": [
    "### Vaccine Data Analysis Assignment\n",
    "\n",
    "**Overview**\n",
    "\n",
    "The company AliTech has created a new vaccine that aims to improve the health of the people who take it. Your job is to use what you have learned in the course to give evidence for whether or not the vaccine is effective. \n",
    "\n",
    "**Data**\n",
    "AliTech has released the following data.\n",
    "\n",
    "```csv\n",
    "PatientID,Age,Gender,InitialHealthScore,FinalHealthScore\n",
    "1,45,M,84,86\n",
    "2,34,F,78,86\n",
    "3,29,M,83,80\n",
    "4,52,F,81,86\n",
    "5,37,M,81,84\n",
    "6,41,F,80,86\n",
    "7,33,M,79,86\n",
    "8,48,F,85,82\n",
    "9,26,M,76,83\n",
    "10,39,F,83,84\n",
    "```\n",
    "\n",
    "**Deliverables**\n",
    "While you can choose how to approach this project, the most obvious path would be to use bootstrapping, follow the analysis presented in the \"Pre-lecture\" HW video (above). Nonetheless, we are  primarily interested in evaluating your report relative to the following deliverables.\n",
    "\n",
    "- A visual presentation giving some initial insight into the comparison of interest.\n",
    "- A quantitative analysis of the data and an explanation of the method and purpose of this method.\n",
    "- A conclusion regarding a null hypothesis of \"no effect\" after analyzing the data with your methodology.\n",
    "- The clarity of your documentation, code, and written report. \n",
    "\n",
    "> Consider organizing your report within the following outline template.\n",
    "> - Problem Introduction \n",
    ">     - An explaination of the meaning of a Null Hypothesis of \"no effect\" in this context\n",
    ">     - Data Visualization (motivating and illustrating the comparison of interest)\n",
    "> - Quantitative Analysis\n",
    ">     - Methodology Code and Explanations\n",
    ">     - Supporting Visualizations\n",
    "> - Findings and Discussion\n",
    ">     - Conclusion regarding a Null Hypothesis of \"no effect\"\n",
    ">     - Further Considerations\n",
    "\n",
    "**Further Instructions**\n",
    "- When using random functions, you should make your analysis reproducible by using the `np.random.seed()` function\n",
    "- Create a CSV file and read that file in with your code, but **do not** include the CSV file along with your submission\n"
   ]
  },
  {
   "cell_type": "code",
   "execution_count": 8,
   "metadata": {},
   "outputs": [
    {
     "data": {
      "image/png": "[encoded data removed]",
      "text/plain": [
       "<Figure size 800x600 with 1 Axes>"
      ]
     },
     "metadata": {},
     "output_type": "display_data"
    }
   ],
   "source": [
    "import pandas as pd\n",
    "import matplotlib.pyplot as plt\n",
    "\n",
    "# Creating a dictionary with the data\n",
    "data = {\n",
    "    'PatientID': [1, 2, 3, 4, 5, 6, 7, 8, 9, 10],\n",
    "    'Age': [45, 34, 29, 52, 37, 41, 33, 48, 26, 39],\n",
    "    'Gender': ['M', 'F', 'M', 'F', 'M', 'F', 'M', 'F', 'M', 'F'],\n",
    "    'InitialHealthScore': [84, 78, 83, 81, 81, 80, 79, 85, 76, 83],\n",
    "    'FinalHealthScore': [86, 86, 80, 86, 84, 86, 86, 82, 83, 84]\n",
    "}\n",
    "\n",
    "# Creating the DataFrame\n",
    "df = pd.DataFrame(data)\n",
    "\n",
    "# Calculating the difference\n",
    "df[\"difference\"] = df.FinalHealthScore - df.InitialHealthScore\n",
    "\n",
    "# Generating the histogram\n",
    "plt.figure(figsize=(8, 6))\n",
    "plt.hist(df['difference'], bins=10, color='skyblue', edgecolor='black')\n",
    "plt.title('Histogram of Health Score Differences')\n",
    "plt.xlabel('Difference (Final - Initial Health Score)')\n",
    "plt.ylabel('Frequency')\n",
    "plt.grid(axis='y', alpha=0.75)\n",
    "plt.show()\n"
   ]
  },
  {
   "cell_type": "code",
   "execution_count": 26,
   "metadata": {},
   "outputs": [
    {
     "data": {
      "application/vnd.plotly.v1+json": {
       "config": {
        "plotlyServerURL": "https://plot.ly"
       },
       "data": [
        {
         "alignmentgroup": "True",
         "bingroup": "x",
         "hovertemplate": "x=%{x}<br>count=%{y}<extra></extra>",
         "legendgroup": "",
         "marker": {
          "color": "#636efa",
          "pattern": {
           "shape": ""
          }
         },
         "name": "",
         "nbinsx": 30,
         "offsetgroup": "",
         "orientation": "v",
         "showlegend": false,
         "type": "histogram",
         "x": [
          4.1,
          3.3,
          2,
          3.4,
          2.3,
          3,
          4.8,
          1.9,
          2.1,
          2.8,
          4.3,
          3.4,
          1,
          4,
          6,
          2.8,
          3.4,
          3.2,
          3.3,
          2.6,
          1.7,
          2.3,
          4.1,
          2.3,
          4.1,
          1.2,
          5,
          4,
          2.7,
          3,
          2.8,
          4.8,
          1.8,
          3.4,
          3.1,
          0.9,
          2.3,
          4.3,
          3.2,
          2.4,
          3.2,
          3.4,
          3.7,
          3.3,
          2.5,
          4.6,
          4.7,
          1.1,
          5.9,
          3.1,
          1.9,
          4.2,
          2.4,
          3.3,
          3.9,
          -0.6,
          4.7,
          3.5,
          0.9,
          4.1,
          3.1,
          2.2,
          2.8,
          2.2,
          4.4,
          2.4,
          3.4,
          0.5,
          1.5,
          3.1,
          3.9,
          2.8,
          2.6,
          4.2,
          4.5,
          3.4,
          2.7,
          3.2,
          2.4,
          2.7,
          2.7,
          4.4,
          2.6,
          1.9,
          4.3,
          3,
          2.5,
          3.5,
          4.5,
          5.5,
          3.4,
          5.1,
          3.4,
          3.1,
          2.3,
          2.7,
          3.7,
          4.4,
          3.3,
          3.9,
          2.7,
          3.1,
          1.6,
          4.7,
          2.6,
          2.6,
          4.8,
          2.6,
          2.6,
          3.6,
          5.9,
          3.6,
          2.4,
          1,
          3.5,
          4.3,
          3.7,
          5.4,
          3.1,
          0.7,
          1.3,
          3.2,
          3.5,
          4,
          4.6,
          1.2,
          2.5,
          4.8,
          3.8,
          2,
          1.8,
          2.8,
          1.7,
          4.2,
          3.7,
          3.6,
          4.6,
          4.8,
          2.1,
          4.3,
          2.5,
          3.9,
          4.2,
          4.6,
          2.7,
          3.5,
          4.9,
          1.9,
          4,
          1.3,
          0,
          3.1,
          3.8,
          2.8,
          5,
          2.1,
          3.2,
          2.6,
          4.2,
          4.3,
          3,
          4.2,
          4.2,
          1.5,
          3.5,
          4.4,
          2.8,
          4.5,
          1.8,
          5.1,
          2.8,
          1.4,
          -0.1,
          1.8,
          1.5,
          3.8,
          3.4,
          3.6,
          2.8,
          3,
          5.4,
          5.4,
          2.9,
          4.9,
          3.1,
          2.4,
          2.7,
          2.4,
          3.7,
          2.2,
          3.4,
          3.3,
          2.4,
          4.5,
          -0.3,
          3,
          4.4,
          5.9,
          2.4,
          3.5,
          2,
          1.5,
          4.5,
          3.6,
          4.6,
          4.3,
          4.8,
          4.8,
          2.4,
          3.9,
          0.6,
          5.2,
          3.4,
          2.6,
          4.5,
          2.7,
          2.7,
          4.9,
          4.4,
          3.9,
          4.1,
          2.2,
          2.7,
          2.9,
          3.3,
          4.5,
          3.9,
          3.9,
          4.9,
          3.4,
          3.6,
          2,
          3.6,
          5.2,
          4.5,
          2.1,
          2.8,
          4.3,
          3.1,
          1.5,
          3.9,
          5.5,
          4.8,
          4.6,
          3.9,
          3.1,
          1.3,
          3.3,
          3.2,
          1.6,
          4,
          5.1,
          5.3,
          2.3,
          5,
          2.7,
          4,
          3.5,
          1,
          5.1,
          4.1,
          2.6,
          1.3,
          5.4,
          3.6,
          3.1,
          2.9,
          3.7,
          3.4,
          2.5,
          3.5,
          5.5,
          2.9,
          4.3,
          2.6,
          3,
          1.8,
          5.1,
          4.2,
          4.5,
          2,
          2.4,
          3.6,
          2.5,
          2.5,
          1.5,
          3.4,
          3.2,
          3,
          3.4,
          4.1,
          1.1,
          2.8,
          2.1,
          3.2,
          3.1,
          3.3,
          4.5,
          2.9,
          3.3,
          4.4,
          1.8,
          2.9,
          3.9,
          4.3,
          6,
          3.1,
          3.9,
          0.8,
          2.6,
          2,
          3,
          3.9,
          3.5,
          1.5,
          1.8,
          5.2,
          3.1,
          2.9,
          2,
          3.1,
          1.2,
          1.6,
          3,
          4.6,
          3.1,
          2.6,
          3.3,
          2.6,
          2.4,
          4.4,
          2.8,
          4.5,
          4.8,
          4.1,
          2,
          4,
          5.7,
          4,
          4.4,
          4.3,
          2.1,
          5.7,
          2.5,
          3.4,
          5.8,
          5,
          2.1,
          4.1,
          3,
          4.2,
          4.8,
          4.2,
          4.2,
          5.8,
          1.3,
          2.6,
          2,
          4.3,
          4.9,
          2.7,
          1.4,
          4.9,
          4,
          4.7,
          3.6,
          4.6,
          3,
          1.9,
          2.8,
          2.5,
          3.6,
          4.6,
          1,
          3.1,
          3.2,
          2.8,
          4.6,
          2.7,
          0.2,
          3.5,
          2.3,
          3.7,
          3,
          2.8,
          3.6,
          5.1,
          3.9,
          2.9,
          3.7,
          2.4,
          3.1,
          3.9,
          4.4,
          4,
          3.3,
          2.9,
          3.2,
          3.5,
          1.6,
          4.2,
          1.8,
          2.4,
          3.1,
          3.4,
          1.5,
          3.9,
          -0.5,
          1.6,
          3.1,
          2.6,
          3,
          4.9,
          1.7,
          1.9,
          2.9,
          0.1,
          4.1,
          3.8,
          2.9,
          3.3,
          3.5,
          4.6,
          3.5,
          2.7,
          5.6,
          4.7,
          4.8,
          3.1,
          3,
          3.6,
          3.1,
          3.6,
          2.4,
          2.9,
          4,
          2.5,
          2,
          3.6,
          2.8,
          4,
          4.1,
          3.5,
          3.1,
          0.1,
          2.8,
          3,
          3.4,
          3.2,
          4.7,
          1.7,
          4.7,
          2.8,
          5,
          3.4,
          3.9,
          5.2,
          4.7,
          2,
          1.7,
          4.1,
          2.8,
          4.2,
          2.9,
          3.3,
          3.5,
          2.7,
          3.5,
          4.2,
          3.2,
          4.2,
          3.6,
          4.1,
          3.9,
          4.1,
          3.6,
          2.4,
          2.7,
          4.2,
          1.1,
          4.5,
          3.8,
          0.2,
          3.7,
          1.2,
          2.4,
          5.3,
          4.4,
          3.9,
          4,
          4,
          4.1,
          3.5,
          3,
          1.7,
          3.4,
          2,
          2.3,
          4.8,
          2,
          3.4,
          2.8,
          4.7,
          2.9,
          2.7,
          6.2,
          2.2,
          5.7,
          4.2,
          3.8,
          3.1,
          4,
          5.1,
          3.2,
          2.8,
          3.3,
          2.8,
          2.9,
          4.1,
          3.2,
          3.9,
          2.5,
          3,
          4.3,
          3.2,
          4.1,
          1.6,
          4.3,
          6.3,
          3.4,
          2,
          5.3,
          4.6,
          4,
          5.4,
          0.9,
          4.6,
          5.3,
          3.4,
          4.4,
          2.4,
          2.9,
          1.3,
          2.4,
          2.6,
          4.2,
          0.7,
          3.7,
          4.1,
          3.5,
          5.6,
          3.7,
          3.5,
          3,
          3.8,
          2.7,
          3.6,
          4.1,
          3.8,
          -0.5,
          4.3,
          2.1,
          2.8,
          3.9,
          3.9,
          3.1,
          4.2,
          4.1,
          5.3,
          2.3,
          1.9,
          3.7,
          4.2,
          4,
          3.2,
          3.2,
          4.4,
          2,
          4.1,
          4.1,
          3.9,
          5.9,
          4.2,
          4.7,
          3,
          1.5,
          5.4,
          2.1,
          1.9,
          3.6,
          2.3,
          3.3,
          3.6,
          2.6,
          0.4,
          4,
          4,
          3.4,
          2.7,
          2.1,
          3.6,
          1.5,
          5,
          3.3,
          4.3,
          3.1,
          4.3,
          5.4,
          4.1,
          4.1,
          4.6,
          1.7,
          1.3,
          2.5,
          0.2,
          -0.1,
          2.4,
          4.1,
          1.7,
          4.8,
          4.8,
          3.1,
          2.9,
          3.9,
          5.6,
          3.3,
          2.2,
          5.1,
          4.8,
          3.4,
          1.5,
          4.8,
          1.9,
          1.1,
          2.7,
          2.9,
          3.1,
          5.6,
          3.7,
          4.1,
          2.9,
          3.4,
          1.5,
          5.7,
          2.6,
          3.5,
          2.6,
          3.4,
          4.6,
          4.3,
          3,
          4.5,
          1.8,
          4.9,
          3.9,
          4.5,
          4.1,
          4.8,
          0.8,
          2.4,
          4.3,
          1.3,
          1.6,
          4.2,
          3.3,
          2.1,
          1.5,
          3,
          4.1,
          1.1,
          4.2,
          2.8,
          2,
          2.3,
          4.4,
          2.1,
          0,
          1.4,
          3.4,
          2,
          2.3,
          2.4,
          3,
          3.3,
          2.8,
          5.4,
          2.3,
          4.3,
          4.7,
          3,
          0.9,
          1.7,
          2.4,
          5,
          4.9,
          3.7,
          2.1,
          2.1,
          3,
          3.5,
          5.2,
          2,
          3.4,
          4.6,
          3.9,
          5.2,
          4.6,
          3.8,
          4.5,
          1.9,
          0.5,
          2.1,
          3.3,
          4.3,
          1.6,
          4.4,
          4.5,
          4.3,
          3.6,
          1.4,
          4.7,
          4.7,
          2.5,
          2.3,
          3.3,
          3.3,
          3.6,
          3.6,
          4.5,
          1.8,
          3.1,
          3.4,
          1.3,
          2.2,
          3.1,
          3,
          4.5,
          4.6,
          1.3,
          3.7,
          1.6,
          2.6,
          0.9,
          -0.2,
          3,
          2.6,
          3.9,
          4.3,
          4,
          4.2,
          4.6,
          2.4,
          4.5,
          3.9,
          3.9,
          1,
          1,
          3.3,
          4.1,
          2.9,
          1.4,
          3.6,
          2,
          2.6,
          2.6,
          4.8,
          2.3,
          3.8,
          3,
          3.4,
          2.4,
          1.4,
          2.5,
          5.7,
          4.5,
          3.3,
          2,
          3.4,
          4.5,
          1.5,
          2.9,
          3.9,
          3.8,
          3.4,
          1.4,
          1.3,
          4.1,
          5.4,
          3.9,
          0.6,
          1.5,
          0.8,
          2.7,
          4.8,
          3.6,
          4.7,
          4.5,
          4,
          2.7,
          2.2,
          3.2,
          3.1,
          3.8,
          2.4,
          3.5,
          3.1,
          2.3,
          0.5,
          2.6,
          3.4,
          0.8,
          2.5,
          3.5,
          1.2,
          6.4,
          2.5,
          2.5,
          3.9,
          3.5,
          3.2,
          1,
          1.9,
          2.2,
          2.1,
          3.3,
          2.6,
          3.5,
          3.3,
          1.7,
          1.6,
          3.8,
          6.8,
          1.2,
          3.1,
          5.1,
          1.5,
          2.3,
          4.6,
          4.1,
          3.6,
          3.1,
          3.4,
          3,
          4.3,
          2.8,
          0.4,
          3.4,
          4.5,
          3.9,
          3.6,
          2.7,
          3.7,
          2,
          3.8,
          1.2,
          3.3,
          5.4,
          3,
          3.8,
          4.4,
          3.2,
          3,
          3,
          4.1,
          4.4,
          4.3,
          3.5,
          2.1,
          2.3,
          3.8,
          3.9,
          1.2,
          3.6,
          5,
          2.7,
          3.4,
          5.5,
          1.6,
          5.1,
          3.9,
          4.1,
          4.3,
          4.6,
          6.2,
          4.2,
          1.5,
          3.5,
          4.3,
          5.3,
          2.6,
          2.7,
          3.9,
          4.7,
          2.5,
          3.2,
          4,
          3.9,
          2,
          3,
          2.7,
          2.4,
          4.6,
          4.1,
          4.7,
          2.5,
          1.6,
          4.7,
          0.8,
          2.3,
          4.5,
          3,
          3.2,
          2.5,
          2.5,
          4.3,
          3.3,
          5,
          4.5,
          2.9,
          3.1,
          4.8,
          2.9,
          6,
          3.1,
          3.9,
          4,
          3.2,
          5.3,
          3.5,
          4.3,
          2.7,
          1.6,
          3.8,
          3.2,
          2.7,
          4.4,
          4.7,
          4.4,
          5,
          2.3,
          3.9,
          5.3,
          3.1,
          3.6,
          1.8,
          4.5,
          2.3,
          2.4,
          4.8,
          2.2,
          3.1,
          3.6,
          2.1,
          7,
          3.3,
          4.8,
          3.8,
          1.5,
          2,
          1,
          6.1,
          3.7,
          4.3,
          2.7,
          0.7,
          5.1,
          4.6,
          3.4,
          3,
          3.9,
          3.2,
          1.6,
          1.7,
          2.6,
          4,
          2.7,
          3.6,
          3.5,
          2.6,
          1.4,
          3.3,
          4.9,
          -0.1,
          1.7,
          2.2,
          3.6,
          5,
          5.2,
          2.1,
          1.6,
          2.7,
          3.5,
          2.9,
          2.6,
          1.2,
          3.5,
          4.4,
          3.3,
          3.9,
          2.7
         ],
         "xaxis": "x",
         "yaxis": "y"
        }
       ],
       "layout": {
        "barmode": "relative",
        "legend": {
         "tracegroupgap": 0
        },
        "template": {
         "data": {
          "bar": [
           {
            "error_x": {
             "color": "#2a3f5f"
            },
            "error_y": {
             "color": "#2a3f5f"
            },
            "marker": {
             "line": {
              "color": "#E5ECF6",
              "width": 0.5
             },
             "pattern": {
              "fillmode": "overlay",
              "size": 10,
              "solidity": 0.2
             }
            },
            "type": "bar"
           }
          ],
          "barpolar": [
           {
            "marker": {
             "line": {
              "color": "#E5ECF6",
              "width": 0.5
             },
             "pattern": {
              "fillmode": "overlay",
              "size": 10,
              "solidity": 0.2
             }
            },
            "type": "barpolar"
           }
          ],
          "carpet": [
           {
            "aaxis": {
             "endlinecolor": "#2a3f5f",
             "gridcolor": "white",
             "linecolor": "white",
             "minorgridcolor": "white",
             "startlinecolor": "#2a3f5f"
            },
            "baxis": {
             "endlinecolor": "#2a3f5f",
             "gridcolor": "white",
             "linecolor": "white",
             "minorgridcolor": "white",
             "startlinecolor": "#2a3f5f"
            },
            "type": "carpet"
           }
          ],
          "choropleth": [
           {
            "colorbar": {
             "outlinewidth": 0,
             "ticks": ""
            },
            "type": "choropleth"
           }
          ],
          "contour": [
           {
            "colorbar": {
             "outlinewidth": 0,
             "ticks": ""
            },
            "colorscale": [
             [
              0,
              "#0d0887"
             ],
             [
              0.1111111111111111,
              "#46039f"
             ],
             [
              0.2222222222222222,
              "#7201a8"
             ],
             [
              0.3333333333333333,
              "#9c179e"
             ],
             [
              0.4444444444444444,
              "#bd3786"
             ],
             [
              0.5555555555555556,
              "#d8576b"
             ],
             [
              0.6666666666666666,
              "#ed7953"
             ],
             [
              0.7777777777777778,
              "#fb9f3a"
             ],
             [
              0.8888888888888888,
              "#fdca26"
             ],
             [
              1,
              "#f0f921"
             ]
            ],
            "type": "contour"
           }
          ],
          "contourcarpet": [
           {
            "colorbar": {
             "outlinewidth": 0,
             "ticks": ""
            },
            "type": "contourcarpet"
           }
          ],
          "heatmap": [
           {
            "colorbar": {
             "outlinewidth": 0,
             "ticks": ""
            },
            "colorscale": [
             [
              0,
              "#0d0887"
             ],
             [
              0.1111111111111111,
              "#46039f"
             ],
             [
              0.2222222222222222,
              "#7201a8"
             ],
             [
              0.3333333333333333,
              "#9c179e"
             ],
             [
              0.4444444444444444,
              "#bd3786"
             ],
             [
              0.5555555555555556,
              "#d8576b"
             ],
             [
              0.6666666666666666,
              "#ed7953"
             ],
             [
              0.7777777777777778,
              "#fb9f3a"
             ],
             [
              0.8888888888888888,
              "#fdca26"
             ],
             [
              1,
              "#f0f921"
             ]
            ],
            "type": "heatmap"
           }
          ],
          "heatmapgl": [
           {
            "colorbar": {
             "outlinewidth": 0,
             "ticks": ""
            },
            "colorscale": [
             [
              0,
              "#0d0887"
             ],
             [
              0.1111111111111111,
              "#46039f"
             ],
             [
              0.2222222222222222,
              "#7201a8"
             ],
             [
              0.3333333333333333,
              "#9c179e"
             ],
             [
              0.4444444444444444,
              "#bd3786"
             ],
             [
              0.5555555555555556,
              "#d8576b"
             ],
             [
              0.6666666666666666,
              "#ed7953"
             ],
             [
              0.7777777777777778,
              "#fb9f3a"
             ],
             [
              0.8888888888888888,
              "#fdca26"
             ],
             [
              1,
              "#f0f921"
             ]
            ],
            "type": "heatmapgl"
           }
          ],
          "histogram": [
           {
            "marker": {
             "pattern": {
              "fillmode": "overlay",
              "size": 10,
              "solidity": 0.2
             }
            },
            "type": "histogram"
           }
          ],
          "histogram2d": [
           {
            "colorbar": {
             "outlinewidth": 0,
             "ticks": ""
            },
            "colorscale": [
             [
              0,
              "#0d0887"
             ],
             [
              0.1111111111111111,
              "#46039f"
             ],
             [
              0.2222222222222222,
              "#7201a8"
             ],
             [
              0.3333333333333333,
              "#9c179e"
             ],
             [
              0.4444444444444444,
              "#bd3786"
             ],
             [
              0.5555555555555556,
              "#d8576b"
             ],
             [
              0.6666666666666666,
              "#ed7953"
             ],
             [
              0.7777777777777778,
              "#fb9f3a"
             ],
             [
              0.8888888888888888,
              "#fdca26"
             ],
             [
              1,
              "#f0f921"
             ]
            ],
            "type": "histogram2d"
           }
          ],
          "histogram2dcontour": [
           {
            "colorbar": {
             "outlinewidth": 0,
             "ticks": ""
            },
            "colorscale": [
             [
              0,
              "#0d0887"
             ],
             [
              0.1111111111111111,
              "#46039f"
             ],
             [
              0.2222222222222222,
              "#7201a8"
             ],
             [
              0.3333333333333333,
              "#9c179e"
             ],
             [
              0.4444444444444444,
              "#bd3786"
             ],
             [
              0.5555555555555556,
              "#d8576b"
             ],
             [
              0.6666666666666666,
              "#ed7953"
             ],
             [
              0.7777777777777778,
              "#fb9f3a"
             ],
             [
              0.8888888888888888,
              "#fdca26"
             ],
             [
              1,
              "#f0f921"
             ]
            ],
            "type": "histogram2dcontour"
           }
          ],
          "mesh3d": [
           {
            "colorbar": {
             "outlinewidth": 0,
             "ticks": ""
            },
            "type": "mesh3d"
           }
          ],
          "parcoords": [
           {
            "line": {
             "colorbar": {
              "outlinewidth": 0,
              "ticks": ""
             }
            },
            "type": "parcoords"
           }
          ],
          "pie": [
           {
            "automargin": true,
            "type": "pie"
           }
          ],
          "scatter": [
           {
            "fillpattern": {
             "fillmode": "overlay",
             "size": 10,
             "solidity": 0.2
            },
            "type": "scatter"
           }
          ],
          "scatter3d": [
           {
            "line": {
             "colorbar": {
              "outlinewidth": 0,
              "ticks": ""
             }
            },
            "marker": {
             "colorbar": {
              "outlinewidth": 0,
              "ticks": ""
             }
            },
            "type": "scatter3d"
           }
          ],
          "scattercarpet": [
           {
            "marker": {
             "colorbar": {
              "outlinewidth": 0,
              "ticks": ""
             }
            },
            "type": "scattercarpet"
           }
          ],
          "scattergeo": [
           {
            "marker": {
             "colorbar": {
              "outlinewidth": 0,
              "ticks": ""
             }
            },
            "type": "scattergeo"
           }
          ],
          "scattergl": [
           {
            "marker": {
             "colorbar": {
              "outlinewidth": 0,
              "ticks": ""
             }
            },
            "type": "scattergl"
           }
          ],
          "scattermapbox": [
           {
            "marker": {
             "colorbar": {
              "outlinewidth": 0,
              "ticks": ""
             }
            },
            "type": "scattermapbox"
           }
          ],
          "scatterpolar": [
           {
            "marker": {
             "colorbar": {
              "outlinewidth": 0,
              "ticks": ""
             }
            },
            "type": "scatterpolar"
           }
          ],
          "scatterpolargl": [
           {
            "marker": {
             "colorbar": {
              "outlinewidth": 0,
              "ticks": ""
             }
            },
            "type": "scatterpolargl"
           }
          ],
          "scatterternary": [
           {
            "marker": {
             "colorbar": {
              "outlinewidth": 0,
              "ticks": ""
             }
            },
            "type": "scatterternary"
           }
          ],
          "surface": [
           {
            "colorbar": {
             "outlinewidth": 0,
             "ticks": ""
            },
            "colorscale": [
             [
              0,
              "#0d0887"
             ],
             [
              0.1111111111111111,
              "#46039f"
             ],
             [
              0.2222222222222222,
              "#7201a8"
             ],
             [
              0.3333333333333333,
              "#9c179e"
             ],
             [
              0.4444444444444444,
              "#bd3786"
             ],
             [
              0.5555555555555556,
              "#d8576b"
             ],
             [
              0.6666666666666666,
              "#ed7953"
             ],
             [
              0.7777777777777778,
              "#fb9f3a"
             ],
             [
              0.8888888888888888,
              "#fdca26"
             ],
             [
              1,
              "#f0f921"
             ]
            ],
            "type": "surface"
           }
          ],
          "table": [
           {
            "cells": {
             "fill": {
              "color": "#EBF0F8"
             },
             "line": {
              "color": "white"
             }
            },
            "header": {
             "fill": {
              "color": "#C8D4E3"
             },
             "line": {
              "color": "white"
             }
            },
            "type": "table"
           }
          ]
         },
         "layout": {
          "annotationdefaults": {
           "arrowcolor": "#2a3f5f",
           "arrowhead": 0,
           "arrowwidth": 1
          },
          "autotypenumbers": "strict",
          "coloraxis": {
           "colorbar": {
            "outlinewidth": 0,
            "ticks": ""
           }
          },
          "colorscale": {
           "diverging": [
            [
             0,
             "#8e0152"
            ],
            [
             0.1,
             "#c51b7d"
            ],
            [
             0.2,
             "#de77ae"
            ],
            [
             0.3,
             "#f1b6da"
            ],
            [
             0.4,
             "#fde0ef"
            ],
            [
             0.5,
             "#f7f7f7"
            ],
            [
             0.6,
             "#e6f5d0"
            ],
            [
             0.7,
             "#b8e186"
            ],
            [
             0.8,
             "#7fbc41"
            ],
            [
             0.9,
             "#4d9221"
            ],
            [
             1,
             "#276419"
            ]
           ],
           "sequential": [
            [
             0,
             "#0d0887"
            ],
            [
             0.1111111111111111,
             "#46039f"
            ],
            [
             0.2222222222222222,
             "#7201a8"
            ],
            [
             0.3333333333333333,
             "#9c179e"
            ],
            [
             0.4444444444444444,
             "#bd3786"
            ],
            [
             0.5555555555555556,
             "#d8576b"
            ],
            [
             0.6666666666666666,
             "#ed7953"
            ],
            [
             0.7777777777777778,
             "#fb9f3a"
            ],
            [
             0.8888888888888888,
             "#fdca26"
            ],
            [
             1,
             "#f0f921"
            ]
           ],
           "sequentialminus": [
            [
             0,
             "#0d0887"
            ],
            [
             0.1111111111111111,
             "#46039f"
            ],
            [
             0.2222222222222222,
             "#7201a8"
            ],
            [
             0.3333333333333333,
             "#9c179e"
            ],
            [
             0.4444444444444444,
             "#bd3786"
            ],
            [
             0.5555555555555556,
             "#d8576b"
            ],
            [
             0.6666666666666666,
             "#ed7953"
            ],
            [
             0.7777777777777778,
             "#fb9f3a"
            ],
            [
             0.8888888888888888,
             "#fdca26"
            ],
            [
             1,
             "#f0f921"
            ]
           ]
          },
          "colorway": [
           "#636efa",
           "#EF553B",
           "#00cc96",
           "#ab63fa",
           "#FFA15A",
           "#19d3f3",
           "#FF6692",
           "#B6E880",
           "#FF97FF",
           "#FECB52"
          ],
          "font": {
           "color": "#2a3f5f"
          },
          "geo": {
           "bgcolor": "white",
           "lakecolor": "white",
           "landcolor": "#E5ECF6",
           "showlakes": true,
           "showland": true,
           "subunitcolor": "white"
          },
          "hoverlabel": {
           "align": "left"
          },
          "hovermode": "closest",
          "mapbox": {
           "style": "light"
          },
          "paper_bgcolor": "white",
          "plot_bgcolor": "#E5ECF6",
          "polar": {
           "angularaxis": {
            "gridcolor": "white",
            "linecolor": "white",
            "ticks": ""
           },
           "bgcolor": "#E5ECF6",
           "radialaxis": {
            "gridcolor": "white",
            "linecolor": "white",
            "ticks": ""
           }
          },
          "scene": {
           "xaxis": {
            "backgroundcolor": "#E5ECF6",
            "gridcolor": "white",
            "gridwidth": 2,
            "linecolor": "white",
            "showbackground": true,
            "ticks": "",
            "zerolinecolor": "white"
           },
           "yaxis": {
            "backgroundcolor": "#E5ECF6",
            "gridcolor": "white",
            "gridwidth": 2,
            "linecolor": "white",
            "showbackground": true,
            "ticks": "",
            "zerolinecolor": "white"
           },
           "zaxis": {
            "backgroundcolor": "#E5ECF6",
            "gridcolor": "white",
            "gridwidth": 2,
            "linecolor": "white",
            "showbackground": true,
            "ticks": "",
            "zerolinecolor": "white"
           }
          },
          "shapedefaults": {
           "line": {
            "color": "#2a3f5f"
           }
          },
          "ternary": {
           "aaxis": {
            "gridcolor": "white",
            "linecolor": "white",
            "ticks": ""
           },
           "baxis": {
            "gridcolor": "white",
            "linecolor": "white",
            "ticks": ""
           },
           "bgcolor": "#E5ECF6",
           "caxis": {
            "gridcolor": "white",
            "linecolor": "white",
            "ticks": ""
           }
          },
          "title": {
           "x": 0.05
          },
          "xaxis": {
           "automargin": true,
           "gridcolor": "white",
           "linecolor": "white",
           "ticks": "",
           "title": {
            "standoff": 15
           },
           "zerolinecolor": "white",
           "zerolinewidth": 2
          },
          "yaxis": {
           "automargin": true,
           "gridcolor": "white",
           "linecolor": "white",
           "ticks": "",
           "title": {
            "standoff": 15
           },
           "zerolinecolor": "white",
           "zerolinewidth": 2
          }
         }
        },
        "title": {
         "text": "Histogram of Bootstrapped Means"
        },
        "xaxis": {
         "anchor": "y",
         "domain": [
          0,
          1
         ],
         "title": {
          "text": "Bootstrapped Mean"
         }
        },
        "yaxis": {
         "anchor": "x",
         "domain": [
          0,
          1
         ],
         "title": {
          "text": "Frequency"
         }
        }
       }
      },
      "text/html": [
       "<div>                            <div id=\"371a25d4-be35-4c94-90e0-222e5a606442\" class=\"plotly-graph-div\" style=\"height:525px; width:100%;\"></div>            <script type=\"text/javascript\">                require([\"plotly\"], function(Plotly) {                    window.PLOTLYENV=window.PLOTLYENV || {};                                    if (document.getElementById(\"371a25d4-be35-4c94-90e0-222e5a606442\")) {                    Plotly.newPlot(                        \"371a25d4-be35-4c94-90e0-222e5a606442\",                        [{\"alignmentgroup\":\"True\",\"bingroup\":\"x\",\"hovertemplate\":\"x=%{x}\\u003cbr\\u003ecount=%{y}\\u003cextra\\u003e\\u003c\\u002fextra\\u003e\",\"legendgroup\":\"\",\"marker\":{\"color\":\"#636efa\",\"pattern\":{\"shape\":\"\"}},\"name\":\"\",\"nbinsx\":30,\"offsetgroup\":\"\",\"orientation\":\"v\",\"showlegend\":false,\"x\":[4.1,3.3,2.0,3.4,2.3,3.0,4.8,1.9,2.1,2.8,4.3,3.4,1.0,4.0,6.0,2.8,3.4,3.2,3.3,2.6,1.7,2.3,4.1,2.3,4.1,1.2,5.0,4.0,2.7,3.0,2.8,4.8,1.8,3.4,3.1,0.9,2.3,4.3,3.2,2.4,3.2,3.4,3.7,3.3,2.5,4.6,4.7,1.1,5.9,3.1,1.9,4.2,2.4,3.3,3.9,-0.6,4.7,3.5,0.9,4.1,3.1,2.2,2.8,2.2,4.4,2.4,3.4,0.5,1.5,3.1,3.9,2.8,2.6,4.2,4.5,3.4,2.7,3.2,2.4,2.7,2.7,4.4,2.6,1.9,4.3,3.0,2.5,3.5,4.5,5.5,3.4,5.1,3.4,3.1,2.3,2.7,3.7,4.4,3.3,3.9,2.7,3.1,1.6,4.7,2.6,2.6,4.8,2.6,2.6,3.6,5.9,3.6,2.4,1.0,3.5,4.3,3.7,5.4,3.1,0.7,1.3,3.2,3.5,4.0,4.6,1.2,2.5,4.8,3.8,2.0,1.8,2.8,1.7,4.2,3.7,3.6,4.6,4.8,2.1,4.3,2.5,3.9,4.2,4.6,2.7,3.5,4.9,1.9,4.0,1.3,0.0,3.1,3.8,2.8,5.0,2.1,3.2,2.6,4.2,4.3,3.0,4.2,4.2,1.5,3.5,4.4,2.8,4.5,1.8,5.1,2.8,1.4,-0.1,1.8,1.5,3.8,3.4,3.6,2.8,3.0,5.4,5.4,2.9,4.9,3.1,2.4,2.7,2.4,3.7,2.2,3.4,3.3,2.4,4.5,-0.3,3.0,4.4,5.9,2.4,3.5,2.0,1.5,4.5,3.6,4.6,4.3,4.8,4.8,2.4,3.9,0.6,5.2,3.4,2.6,4.5,2.7,2.7,4.9,4.4,3.9,4.1,2.2,2.7,2.9,3.3,4.5,3.9,3.9,4.9,3.4,3.6,2.0,3.6,5.2,4.5,2.1,2.8,4.3,3.1,1.5,3.9,5.5,4.8,4.6,3.9,3.1,1.3,3.3,3.2,1.6,4.0,5.1,5.3,2.3,5.0,2.7,4.0,3.5,1.0,5.1,4.1,2.6,1.3,5.4,3.6,3.1,2.9,3.7,3.4,2.5,3.5,5.5,2.9,4.3,2.6,3.0,1.8,5.1,4.2,4.5,2.0,2.4,3.6,2.5,2.5,1.5,3.4,3.2,3.0,3.4,4.1,1.1,2.8,2.1,3.2,3.1,3.3,4.5,2.9,3.3,4.4,1.8,2.9,3.9,4.3,6.0,3.1,3.9,0.8,2.6,2.0,3.0,3.9,3.5,1.5,1.8,5.2,3.1,2.9,2.0,3.1,1.2,1.6,3.0,4.6,3.1,2.6,3.3,2.6,2.4,4.4,2.8,4.5,4.8,4.1,2.0,4.0,5.7,4.0,4.4,4.3,2.1,5.7,2.5,3.4,5.8,5.0,2.1,4.1,3.0,4.2,4.8,4.2,4.2,5.8,1.3,2.6,2.0,4.3,4.9,2.7,1.4,4.9,4.0,4.7,3.6,4.6,3.0,1.9,2.8,2.5,3.6,4.6,1.0,3.1,3.2,2.8,4.6,2.7,0.2,3.5,2.3,3.7,3.0,2.8,3.6,5.1,3.9,2.9,3.7,2.4,3.1,3.9,4.4,4.0,3.3,2.9,3.2,3.5,1.6,4.2,1.8,2.4,3.1,3.4,1.5,3.9,-0.5,1.6,3.1,2.6,3.0,4.9,1.7,1.9,2.9,0.1,4.1,3.8,2.9,3.3,3.5,4.6,3.5,2.7,5.6,4.7,4.8,3.1,3.0,3.6,3.1,3.6,2.4,2.9,4.0,2.5,2.0,3.6,2.8,4.0,4.1,3.5,3.1,0.1,2.8,3.0,3.4,3.2,4.7,1.7,4.7,2.8,5.0,3.4,3.9,5.2,4.7,2.0,1.7,4.1,2.8,4.2,2.9,3.3,3.5,2.7,3.5,4.2,3.2,4.2,3.6,4.1,3.9,4.1,3.6,2.4,2.7,4.2,1.1,4.5,3.8,0.2,3.7,1.2,2.4,5.3,4.4,3.9,4.0,4.0,4.1,3.5,3.0,1.7,3.4,2.0,2.3,4.8,2.0,3.4,2.8,4.7,2.9,2.7,6.2,2.2,5.7,4.2,3.8,3.1,4.0,5.1,3.2,2.8,3.3,2.8,2.9,4.1,3.2,3.9,2.5,3.0,4.3,3.2,4.1,1.6,4.3,6.3,3.4,2.0,5.3,4.6,4.0,5.4,0.9,4.6,5.3,3.4,4.4,2.4,2.9,1.3,2.4,2.6,4.2,0.7,3.7,4.1,3.5,5.6,3.7,3.5,3.0,3.8,2.7,3.6,4.1,3.8,-0.5,4.3,2.1,2.8,3.9,3.9,3.1,4.2,4.1,5.3,2.3,1.9,3.7,4.2,4.0,3.2,3.2,4.4,2.0,4.1,4.1,3.9,5.9,4.2,4.7,3.0,1.5,5.4,2.1,1.9,3.6,2.3,3.3,3.6,2.6,0.4,4.0,4.0,3.4,2.7,2.1,3.6,1.5,5.0,3.3,4.3,3.1,4.3,5.4,4.1,4.1,4.6,1.7,1.3,2.5,0.2,-0.1,2.4,4.1,1.7,4.8,4.8,3.1,2.9,3.9,5.6,3.3,2.2,5.1,4.8,3.4,1.5,4.8,1.9,1.1,2.7,2.9,3.1,5.6,3.7,4.1,2.9,3.4,1.5,5.7,2.6,3.5,2.6,3.4,4.6,4.3,3.0,4.5,1.8,4.9,3.9,4.5,4.1,4.8,0.8,2.4,4.3,1.3,1.6,4.2,3.3,2.1,1.5,3.0,4.1,1.1,4.2,2.8,2.0,2.3,4.4,2.1,0.0,1.4,3.4,2.0,2.3,2.4,3.0,3.3,2.8,5.4,2.3,4.3,4.7,3.0,0.9,1.7,2.4,5.0,4.9,3.7,2.1,2.1,3.0,3.5,5.2,2.0,3.4,4.6,3.9,5.2,4.6,3.8,4.5,1.9,0.5,2.1,3.3,4.3,1.6,4.4,4.5,4.3,3.6,1.4,4.7,4.7,2.5,2.3,3.3,3.3,3.6,3.6,4.5,1.8,3.1,3.4,1.3,2.2,3.1,3.0,4.5,4.6,1.3,3.7,1.6,2.6,0.9,-0.2,3.0,2.6,3.9,4.3,4.0,4.2,4.6,2.4,4.5,3.9,3.9,1.0,1.0,3.3,4.1,2.9,1.4,3.6,2.0,2.6,2.6,4.8,2.3,3.8,3.0,3.4,2.4,1.4,2.5,5.7,4.5,3.3,2.0,3.4,4.5,1.5,2.9,3.9,3.8,3.4,1.4,1.3,4.1,5.4,3.9,0.6,1.5,0.8,2.7,4.8,3.6,4.7,4.5,4.0,2.7,2.2,3.2,3.1,3.8,2.4,3.5,3.1,2.3,0.5,2.6,3.4,0.8,2.5,3.5,1.2,6.4,2.5,2.5,3.9,3.5,3.2,1.0,1.9,2.2,2.1,3.3,2.6,3.5,3.3,1.7,1.6,3.8,6.8,1.2,3.1,5.1,1.5,2.3,4.6,4.1,3.6,3.1,3.4,3.0,4.3,2.8,0.4,3.4,4.5,3.9,3.6,2.7,3.7,2.0,3.8,1.2,3.3,5.4,3.0,3.8,4.4,3.2,3.0,3.0,4.1,4.4,4.3,3.5,2.1,2.3,3.8,3.9,1.2,3.6,5.0,2.7,3.4,5.5,1.6,5.1,3.9,4.1,4.3,4.6,6.2,4.2,1.5,3.5,4.3,5.3,2.6,2.7,3.9,4.7,2.5,3.2,4.0,3.9,2.0,3.0,2.7,2.4,4.6,4.1,4.7,2.5,1.6,4.7,0.8,2.3,4.5,3.0,3.2,2.5,2.5,4.3,3.3,5.0,4.5,2.9,3.1,4.8,2.9,6.0,3.1,3.9,4.0,3.2,5.3,3.5,4.3,2.7,1.6,3.8,3.2,2.7,4.4,4.7,4.4,5.0,2.3,3.9,5.3,3.1,3.6,1.8,4.5,2.3,2.4,4.8,2.2,3.1,3.6,2.1,7.0,3.3,4.8,3.8,1.5,2.0,1.0,6.1,3.7,4.3,2.7,0.7,5.1,4.6,3.4,3.0,3.9,3.2,1.6,1.7,2.6,4.0,2.7,3.6,3.5,2.6,1.4,3.3,4.9,-0.1,1.7,2.2,3.6,5.0,5.2,2.1,1.6,2.7,3.5,2.9,2.6,1.2,3.5,4.4,3.3,3.9,2.7],\"xaxis\":\"x\",\"yaxis\":\"y\",\"type\":\"histogram\"}],                        {\"template\":{\"data\":{\"histogram2dcontour\":[{\"type\":\"histogram2dcontour\",\"colorbar\":{\"outlinewidth\":0,\"ticks\":\"\"},\"colorscale\":[[0.0,\"#0d0887\"],[0.1111111111111111,\"#46039f\"],[0.2222222222222222,\"#7201a8\"],[0.3333333333333333,\"#9c179e\"],[0.4444444444444444,\"#bd3786\"],[0.5555555555555556,\"#d8576b\"],[0.6666666666666666,\"#ed7953\"],[0.7777777777777778,\"#fb9f3a\"],[0.8888888888888888,\"#fdca26\"],[1.0,\"#f0f921\"]]}],\"choropleth\":[{\"type\":\"choropleth\",\"colorbar\":{\"outlinewidth\":0,\"ticks\":\"\"}}],\"histogram2d\":[{\"type\":\"histogram2d\",\"colorbar\":{\"outlinewidth\":0,\"ticks\":\"\"},\"colorscale\":[[0.0,\"#0d0887\"],[0.1111111111111111,\"#46039f\"],[0.2222222222222222,\"#7201a8\"],[0.3333333333333333,\"#9c179e\"],[0.4444444444444444,\"#bd3786\"],[0.5555555555555556,\"#d8576b\"],[0.6666666666666666,\"#ed7953\"],[0.7777777777777778,\"#fb9f3a\"],[0.8888888888888888,\"#fdca26\"],[1.0,\"#f0f921\"]]}],\"heatmap\":[{\"type\":\"heatmap\",\"colorbar\":{\"outlinewidth\":0,\"ticks\":\"\"},\"colorscale\":[[0.0,\"#0d0887\"],[0.1111111111111111,\"#46039f\"],[0.2222222222222222,\"#7201a8\"],[0.3333333333333333,\"#9c179e\"],[0.4444444444444444,\"#bd3786\"],[0.5555555555555556,\"#d8576b\"],[0.6666666666666666,\"#ed7953\"],[0.7777777777777778,\"#fb9f3a\"],[0.8888888888888888,\"#fdca26\"],[1.0,\"#f0f921\"]]}],\"heatmapgl\":[{\"type\":\"heatmapgl\",\"colorbar\":{\"outlinewidth\":0,\"ticks\":\"\"},\"colorscale\":[[0.0,\"#0d0887\"],[0.1111111111111111,\"#46039f\"],[0.2222222222222222,\"#7201a8\"],[0.3333333333333333,\"#9c179e\"],[0.4444444444444444,\"#bd3786\"],[0.5555555555555556,\"#d8576b\"],[0.6666666666666666,\"#ed7953\"],[0.7777777777777778,\"#fb9f3a\"],[0.8888888888888888,\"#fdca26\"],[1.0,\"#f0f921\"]]}],\"contourcarpet\":[{\"type\":\"contourcarpet\",\"colorbar\":{\"outlinewidth\":0,\"ticks\":\"\"}}],\"contour\":[{\"type\":\"contour\",\"colorbar\":{\"outlinewidth\":0,\"ticks\":\"\"},\"colorscale\":[[0.0,\"#0d0887\"],[0.1111111111111111,\"#46039f\"],[0.2222222222222222,\"#7201a8\"],[0.3333333333333333,\"#9c179e\"],[0.4444444444444444,\"#bd3786\"],[0.5555555555555556,\"#d8576b\"],[0.6666666666666666,\"#ed7953\"],[0.7777777777777778,\"#fb9f3a\"],[0.8888888888888888,\"#fdca26\"],[1.0,\"#f0f921\"]]}],\"surface\":[{\"type\":\"surface\",\"colorbar\":{\"outlinewidth\":0,\"ticks\":\"\"},\"colorscale\":[[0.0,\"#0d0887\"],[0.1111111111111111,\"#46039f\"],[0.2222222222222222,\"#7201a8\"],[0.3333333333333333,\"#9c179e\"],[0.4444444444444444,\"#bd3786\"],[0.5555555555555556,\"#d8576b\"],[0.6666666666666666,\"#ed7953\"],[0.7777777777777778,\"#fb9f3a\"],[0.8888888888888888,\"#fdca26\"],[1.0,\"#f0f921\"]]}],\"mesh3d\":[{\"type\":\"mesh3d\",\"colorbar\":{\"outlinewidth\":0,\"ticks\":\"\"}}],\"scatter\":[{\"fillpattern\":{\"fillmode\":\"overlay\",\"size\":10,\"solidity\":0.2},\"type\":\"scatter\"}],\"parcoords\":[{\"type\":\"parcoords\",\"line\":{\"colorbar\":{\"outlinewidth\":0,\"ticks\":\"\"}}}],\"scatterpolargl\":[{\"type\":\"scatterpolargl\",\"marker\":{\"colorbar\":{\"outlinewidth\":0,\"ticks\":\"\"}}}],\"bar\":[{\"error_x\":{\"color\":\"#2a3f5f\"},\"error_y\":{\"color\":\"#2a3f5f\"},\"marker\":{\"line\":{\"color\":\"#E5ECF6\",\"width\":0.5},\"pattern\":{\"fillmode\":\"overlay\",\"size\":10,\"solidity\":0.2}},\"type\":\"bar\"}],\"scattergeo\":[{\"type\":\"scattergeo\",\"marker\":{\"colorbar\":{\"outlinewidth\":0,\"ticks\":\"\"}}}],\"scatterpolar\":[{\"type\":\"scatterpolar\",\"marker\":{\"colorbar\":{\"outlinewidth\":0,\"ticks\":\"\"}}}],\"histogram\":[{\"marker\":{\"pattern\":{\"fillmode\":\"overlay\",\"size\":10,\"solidity\":0.2}},\"type\":\"histogram\"}],\"scattergl\":[{\"type\":\"scattergl\",\"marker\":{\"colorbar\":{\"outlinewidth\":0,\"ticks\":\"\"}}}],\"scatter3d\":[{\"type\":\"scatter3d\",\"line\":{\"colorbar\":{\"outlinewidth\":0,\"ticks\":\"\"}},\"marker\":{\"colorbar\":{\"outlinewidth\":0,\"ticks\":\"\"}}}],\"scattermapbox\":[{\"type\":\"scattermapbox\",\"marker\":{\"colorbar\":{\"outlinewidth\":0,\"ticks\":\"\"}}}],\"scatterternary\":[{\"type\":\"scatterternary\",\"marker\":{\"colorbar\":{\"outlinewidth\":0,\"ticks\":\"\"}}}],\"scattercarpet\":[{\"type\":\"scattercarpet\",\"marker\":{\"colorbar\":{\"outlinewidth\":0,\"ticks\":\"\"}}}],\"carpet\":[{\"aaxis\":{\"endlinecolor\":\"#2a3f5f\",\"gridcolor\":\"white\",\"linecolor\":\"white\",\"minorgridcolor\":\"white\",\"startlinecolor\":\"#2a3f5f\"},\"baxis\":{\"endlinecolor\":\"#2a3f5f\",\"gridcolor\":\"white\",\"linecolor\":\"white\",\"minorgridcolor\":\"white\",\"startlinecolor\":\"#2a3f5f\"},\"type\":\"carpet\"}],\"table\":[{\"cells\":{\"fill\":{\"color\":\"#EBF0F8\"},\"line\":{\"color\":\"white\"}},\"header\":{\"fill\":{\"color\":\"#C8D4E3\"},\"line\":{\"color\":\"white\"}},\"type\":\"table\"}],\"barpolar\":[{\"marker\":{\"line\":{\"color\":\"#E5ECF6\",\"width\":0.5},\"pattern\":{\"fillmode\":\"overlay\",\"size\":10,\"solidity\":0.2}},\"type\":\"barpolar\"}],\"pie\":[{\"automargin\":true,\"type\":\"pie\"}]},\"layout\":{\"autotypenumbers\":\"strict\",\"colorway\":[\"#636efa\",\"#EF553B\",\"#00cc96\",\"#ab63fa\",\"#FFA15A\",\"#19d3f3\",\"#FF6692\",\"#B6E880\",\"#FF97FF\",\"#FECB52\"],\"font\":{\"color\":\"#2a3f5f\"},\"hovermode\":\"closest\",\"hoverlabel\":{\"align\":\"left\"},\"paper_bgcolor\":\"white\",\"plot_bgcolor\":\"#E5ECF6\",\"polar\":{\"bgcolor\":\"#E5ECF6\",\"angularaxis\":{\"gridcolor\":\"white\",\"linecolor\":\"white\",\"ticks\":\"\"},\"radialaxis\":{\"gridcolor\":\"white\",\"linecolor\":\"white\",\"ticks\":\"\"}},\"ternary\":{\"bgcolor\":\"#E5ECF6\",\"aaxis\":{\"gridcolor\":\"white\",\"linecolor\":\"white\",\"ticks\":\"\"},\"baxis\":{\"gridcolor\":\"white\",\"linecolor\":\"white\",\"ticks\":\"\"},\"caxis\":{\"gridcolor\":\"white\",\"linecolor\":\"white\",\"ticks\":\"\"}},\"coloraxis\":{\"colorbar\":{\"outlinewidth\":0,\"ticks\":\"\"}},\"colorscale\":{\"sequential\":[[0.0,\"#0d0887\"],[0.1111111111111111,\"#46039f\"],[0.2222222222222222,\"#7201a8\"],[0.3333333333333333,\"#9c179e\"],[0.4444444444444444,\"#bd3786\"],[0.5555555555555556,\"#d8576b\"],[0.6666666666666666,\"#ed7953\"],[0.7777777777777778,\"#fb9f3a\"],[0.8888888888888888,\"#fdca26\"],[1.0,\"#f0f921\"]],\"sequentialminus\":[[0.0,\"#0d0887\"],[0.1111111111111111,\"#46039f\"],[0.2222222222222222,\"#7201a8\"],[0.3333333333333333,\"#9c179e\"],[0.4444444444444444,\"#bd3786\"],[0.5555555555555556,\"#d8576b\"],[0.6666666666666666,\"#ed7953\"],[0.7777777777777778,\"#fb9f3a\"],[0.8888888888888888,\"#fdca26\"],[1.0,\"#f0f921\"]],\"diverging\":[[0,\"#8e0152\"],[0.1,\"#c51b7d\"],[0.2,\"#de77ae\"],[0.3,\"#f1b6da\"],[0.4,\"#fde0ef\"],[0.5,\"#f7f7f7\"],[0.6,\"#e6f5d0\"],[0.7,\"#b8e186\"],[0.8,\"#7fbc41\"],[0.9,\"#4d9221\"],[1,\"#276419\"]]},\"xaxis\":{\"gridcolor\":\"white\",\"linecolor\":\"white\",\"ticks\":\"\",\"title\":{\"standoff\":15},\"zerolinecolor\":\"white\",\"automargin\":true,\"zerolinewidth\":2},\"yaxis\":{\"gridcolor\":\"white\",\"linecolor\":\"white\",\"ticks\":\"\",\"title\":{\"standoff\":15},\"zerolinecolor\":\"white\",\"automargin\":true,\"zerolinewidth\":2},\"scene\":{\"xaxis\":{\"backgroundcolor\":\"#E5ECF6\",\"gridcolor\":\"white\",\"linecolor\":\"white\",\"showbackground\":true,\"ticks\":\"\",\"zerolinecolor\":\"white\",\"gridwidth\":2},\"yaxis\":{\"backgroundcolor\":\"#E5ECF6\",\"gridcolor\":\"white\",\"linecolor\":\"white\",\"showbackground\":true,\"ticks\":\"\",\"zerolinecolor\":\"white\",\"gridwidth\":2},\"zaxis\":{\"backgroundcolor\":\"#E5ECF6\",\"gridcolor\":\"white\",\"linecolor\":\"white\",\"showbackground\":true,\"ticks\":\"\",\"zerolinecolor\":\"white\",\"gridwidth\":2}},\"shapedefaults\":{\"line\":{\"color\":\"#2a3f5f\"}},\"annotationdefaults\":{\"arrowcolor\":\"#2a3f5f\",\"arrowhead\":0,\"arrowwidth\":1},\"geo\":{\"bgcolor\":\"white\",\"landcolor\":\"#E5ECF6\",\"subunitcolor\":\"white\",\"showland\":true,\"showlakes\":true,\"lakecolor\":\"white\"},\"title\":{\"x\":0.05},\"mapbox\":{\"style\":\"light\"}}},\"xaxis\":{\"anchor\":\"y\",\"domain\":[0.0,1.0],\"title\":{\"text\":\"Bootstrapped Mean\"}},\"yaxis\":{\"anchor\":\"x\",\"domain\":[0.0,1.0],\"title\":{\"text\":\"Frequency\"}},\"legend\":{\"tracegroupgap\":0},\"title\":{\"text\":\"Histogram of Bootstrapped Means\"},\"barmode\":\"relative\"},                        {\"responsive\": true}                    ).then(function(){\n",
       "                            \n",
       "var gd = document.getElementById('371a25d4-be35-4c94-90e0-222e5a606442');\n",
       "var x = new MutationObserver(function (mutations, observer) {{\n",
       "        var display = window.getComputedStyle(gd).display;\n",
       "        if (!display || display === 'none') {{\n",
       "            console.log([gd, 'removed!']);\n",
       "            Plotly.purge(gd);\n",
       "            observer.disconnect();\n",
       "        }}\n",
       "}});\n",
       "\n",
       "// Listen for the removal of the full notebook cells\n",
       "var notebookContainer = gd.closest('#notebook-container');\n",
       "if (notebookContainer) {{\n",
       "    x.observe(notebookContainer, {childList: true});\n",
       "}}\n",
       "\n",
       "// Listen for the clearing of the current output cell\n",
       "var outputEl = gd.closest('.output');\n",
       "if (outputEl) {{\n",
       "    x.observe(outputEl, {childList: true});\n",
       "}}\n",
       "\n",
       "                        })                };                });            </script>        </div>"
      ]
     },
     "metadata": {},
     "output_type": "display_data"
    }
   ],
   "source": [
    "import pandas as pd\n",
    "import numpy as np\n",
    "import plotly.express as px\n",
    "\n",
    "# Assuming you have already created the DataFrame `df` as shown in previous examples.\n",
    "\n",
    "# Bootstrapping parameters\n",
    "N = 1000\n",
    "boot_mean = np.zeros(N)\n",
    "np.random.seed(130)\n",
    "\n",
    "# Bootstrapping process\n",
    "for i in range(N):\n",
    "    boot_sample = np.random.choice(df.difference, size=len(df.difference), replace=True)\n",
    "    boot_mean[i] = np.mean(boot_sample)\n",
    "\n",
    "# Creating a DataFrame for the bootstrapped means\n",
    "boot_mean_df = pd.DataFrame({\"x\": boot_mean})\n",
    "\n",
    "# Generating the histogram\n",
    "fig = px.histogram(boot_mean_df, x=\"x\", nbins=30, title='Histogram of Bootstrapped Means')\n",
    "fig.update_layout(xaxis_title='Bootstrapped Mean', yaxis_title='Frequency')\n",
    "fig.show()\n"
   ]
  },
  {
   "cell_type": "code",
   "execution_count": 27,
   "metadata": {},
   "outputs": [
    {
     "data": {
      "text/plain": [
       "array([0.7975, 5.5025])"
      ]
     },
     "execution_count": 27,
     "metadata": {},
     "output_type": "execute_result"
    }
   ],
   "source": [
    "np.quantile(boot_mean, [0.025, 0.975])"
   ]
  },
  {
   "cell_type": "markdown",
   "metadata": {},
   "source": [
    "Because this the mean is from 0.7975 to 5.5025 and 0 is not included in it, reject H0, this vaccine is effective."
   ]
  },
  {
   "cell_type": "markdown",
   "metadata": {},
   "source": [
    "### 9. Have you reviewed the course wiki-textbook and interacted with a ChatBot (or, if that wasn't sufficient, real people in the course piazza discussion board or TA office hours) to help you understand all the material in the tutorial and lecture that you didn't quite follow when you first saw it?<br>\n",
    "    \n",
    "<details class=\"details-example\"><summary style=\"color:blue\"><u>Further Guidance</u></summary>\n",
    "    \n",
    ">  Here is the link of [wiki-textbook](https://github.com/pointOfive/stat130chat130/wiki) in case it gets lost among all the information you need to keep track of  : )\n",
    "> \n",
    "> Just answering \"Yes\" or \"No\" or \"Somewhat\" or \"Mostly\" or whatever here is fine as this question isn't a part of the rubric; but, the midterm and final exams may ask questions that are based on the tutorial and lecture materials; and, your own skills will be limited by your familiarity with these materials (which will determine your ability to actually do actual things effectively with these skills... like the course project...)\n",
    "\n",
    "</details>\n",
    "\n",
    "_**Don't forget to ask for summaries of your ChatBot session(s) and paste these into your homework notebook (including link(s) to chat log histories if you're using ChatGPT)!**_"
   ]
  },
  {
   "cell_type": "code",
   "execution_count": null,
   "metadata": {},
   "outputs": [],
   "source": [
    "Yes."
   ]
  },
  {
   "cell_type": "markdown",
   "metadata": {},
   "source": [
    "## Recommended Additional Useful Activities [Optional]\n",
    "\n",
    "The \"Ethical Profesionalism Considerations\" and \"Current Course Project Capability Level\" sections below **are not a part of the required homework assignment**; rather, they are regular weekly guides covering (a) relevant considerations regarding professional and ethical conduct, and (b) the analysis steps for the STA130 course project that are feasible at the current stage of the course \n",
    "\n",
    "<br>\n",
    "<details class=\"details-example\"><summary style=\"color:blue\"><u>Ethical Professionalism Considerations</u></summary>\n",
    "\n",
    "### Ethical Professionalism Considerations\n",
    "    \n",
    "1. What is the difference between reporting a sample statistic (say, from the Canadian Social Connection Survey) as opposed to the a population parameter (chacterizing the population of the Canadians the Canadian Social Connection Survey samples)?\n",
    "2. Why should bootsrapping (and confidence intervals in particular) be utilized when reporting sample statistics (say, from the Canadian Social Connection Survey)?\n",
    "3. How does bootsrapping (and confidence intervals in particular) help us relate the data we have to all Canadians? \n",
    "4. Is the population that the Canadian Social Connection Survey samples really actually all Canadians? Or is it biased in some way? \n",
    "5. Why are the previous questions \"Ethical\" and \"Professional\" in nature?\n",
    "6. If the Canadian Social Connection Survey samples Canadians in some sort of biased way, how could we begin considering if the results can generalize to all Canadians; or, perhaps, the degree to which the results could generalize to all Canadians?\n",
    "</details>    \n",
    "\n",
    "<details class=\"details-example\"><summary style=\"color:blue\"><u>Current Course Project Capability Level</u></summary>\n",
    "\n",
    "### Current Course Project Capability Level\n",
    "    \n",
    "**Remember to abide by the [data use agreement](https://static1.squarespace.com/static/60283c2e174c122f8ebe0f39/t/6239c284d610f76fed5a2e69/1647952517436/Data+Use+Agreement+for+the+Canadian+Social+Connection+Survey.pdf) at all times.**\n",
    "\n",
    "Information about the course project is available on the course github repo [here](https://github.com/pointOfive/stat130chat130/tree/main/CP), including a draft [course project specfication](https://github.com/pointOfive/stat130chat130/blob/main/CP/STA130F23_course_project_specification.ipynb) (subject to change). \n",
    "- The Week 01 HW introduced [STA130F24_CourseProject.ipynb](https://github.com/pointOfive/stat130chat130/blob/main/CP/STA130F24_CourseProject.ipynb), and the [available variables](https://drive.google.com/file/d/1ISVymGn-WR1lcRs4psIym2N3or5onNBi/view). \n",
    "- Please do not download the [data](https://drive.google.com/file/d/1mbUQlMTrNYA7Ly5eImVRBn16Ehy9Lggo/view) accessible at the bottom of the [CSCS](https://casch.org/cscs) webpage (or the course github repo) multiple times.\n",
    "        \n",
    "At this point in the course you should be able to compute a bootstrap confidence interval for the (candian) population mean of a numeric variable of the sample of the Canadian Social Connection Survey. On the basis of only using the techniques we've encountered in the course so far, it would only be possible to assess a null hypothesis of \"no effect\" if we had \"paired\" (e.g., \"before and after\") measurements in our data; but, we could of course assess a hypothesized parameter value estimated by the bootstrapped confidence interval of a relevant sample statistic...\n",
    "    \n",
    "1. What are the different samples and populations that are part of the data related to the Canadian Social Connection Survey?\n",
    "    \n",
    "2. Consider whether or not we have \"paired\" (e.g., \"before and after\") measurements in our data which could be used to assess a null hypothesis of \"no effect\" (in the manner of the \"Pre-lecture\" HW video above); and, if such data is available, create a confidence interval for the average sample difference and use it to assess a null hypothesis of \"no effect\".\n",
    "    \n",
    "3. Pick a couple numeric variables from the Canadian Social Connection Survey with different amounts of non-missing data and create a 95% bootstrapped confidence intervals estimating population parameters for the variables.  \n",
    "    1. You would not want to do this by hand [why?]; but, could you nonetheless describe how this process would be done if you were to do it by hand? \n",
    "\n",
    "    2. [For Advanced Students Only] There are two factors that go into the uncertainty of sample means: the standard deviation of the original sample and the size of the sample (and they create a standard error of the mean that is theoretically \"the standard deviation of the original sample divided by the square root of n\").  Compute the theoretical standard errors of the sample mean for the different variables you've considered; and, if they're different, confirm that they influence the (variance/uncertainty) bootstrapped sampling distribution of the mean as expected\n",
    "\n",
    "</details>            "
   ]
  }
 ],
 "metadata": {
  "celltoolbar": "Slideshow",
  "colab": {
   "provenance": []
  },
  "kernelspec": {
   "display_name": "Python 3 (ipykernel)",
   "language": "python",
   "name": "python3"
  },
  "language_info": {
   "codemirror_mode": {
    "name": "ipython",
    "version": 3
   },
   "file_extension": ".py",
   "mimetype": "text/x-python",
   "name": "python",
   "nbconvert_exporter": "python",
   "pygments_lexer": "ipython3",
   "version": "3.11.6"
  }
 },
 "nbformat": 4,
 "nbformat_minor": 1
}
